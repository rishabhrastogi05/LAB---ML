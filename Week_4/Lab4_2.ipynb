{
 "cells": [
  {
   "cell_type": "code",
   "execution_count": 1,
   "id": "4ac6a269",
   "metadata": {},
   "outputs": [],
   "source": [
    "import pandas as pd\n",
    "import numpy as np\n",
    "from matplotlib import pyplot as plt\n",
    "from sklearn.pipeline import make_pipeline\n",
    "import seaborn as sns\n",
    "from sklearn.metrics import accuracy_score, roc_curve, roc_auc_score, r2_score, mean_absolute_error\n",
    "from sklearn.model_selection import train_test_split\n",
    "from sklearn.linear_model import LinearRegression\n",
    "from sklearn.preprocessing import PolynomialFeatures"
   ]
  },
  {
   "cell_type": "code",
   "execution_count": 2,
   "id": "2d7f5c16",
   "metadata": {},
   "outputs": [
    {
     "data": {
      "text/html": [
       "<div>\n",
       "<style scoped>\n",
       "    .dataframe tbody tr th:only-of-type {\n",
       "        vertical-align: middle;\n",
       "    }\n",
       "\n",
       "    .dataframe tbody tr th {\n",
       "        vertical-align: top;\n",
       "    }\n",
       "\n",
       "    .dataframe thead th {\n",
       "        text-align: right;\n",
       "    }\n",
       "</style>\n",
       "<table border=\"1\" class=\"dataframe\">\n",
       "  <thead>\n",
       "    <tr style=\"text-align: right;\">\n",
       "      <th></th>\n",
       "      <th>MODELYEAR</th>\n",
       "      <th>MAKE</th>\n",
       "      <th>MODEL</th>\n",
       "      <th>VEHICLECLASS</th>\n",
       "      <th>ENGINESIZE</th>\n",
       "      <th>CYLINDERS</th>\n",
       "      <th>TRANSMISSION</th>\n",
       "      <th>FUELTYPE</th>\n",
       "      <th>FUELCONSUMPTION_CITY</th>\n",
       "      <th>FUELCONSUMPTION_HWY</th>\n",
       "      <th>FUELCONSUMPTION_COMB</th>\n",
       "      <th>FUELCONSUMPTION_COMB_MPG</th>\n",
       "      <th>CO2EMISSIONS</th>\n",
       "    </tr>\n",
       "  </thead>\n",
       "  <tbody>\n",
       "    <tr>\n",
       "      <th>0</th>\n",
       "      <td>2014</td>\n",
       "      <td>ACURA</td>\n",
       "      <td>ILX</td>\n",
       "      <td>COMPACT</td>\n",
       "      <td>2.0</td>\n",
       "      <td>4</td>\n",
       "      <td>AS5</td>\n",
       "      <td>Z</td>\n",
       "      <td>9.9</td>\n",
       "      <td>6.7</td>\n",
       "      <td>8.5</td>\n",
       "      <td>33</td>\n",
       "      <td>196</td>\n",
       "    </tr>\n",
       "    <tr>\n",
       "      <th>1</th>\n",
       "      <td>2014</td>\n",
       "      <td>ACURA</td>\n",
       "      <td>ILX</td>\n",
       "      <td>COMPACT</td>\n",
       "      <td>2.4</td>\n",
       "      <td>4</td>\n",
       "      <td>M6</td>\n",
       "      <td>Z</td>\n",
       "      <td>11.2</td>\n",
       "      <td>7.7</td>\n",
       "      <td>9.6</td>\n",
       "      <td>29</td>\n",
       "      <td>221</td>\n",
       "    </tr>\n",
       "    <tr>\n",
       "      <th>2</th>\n",
       "      <td>2014</td>\n",
       "      <td>ACURA</td>\n",
       "      <td>ILX HYBRID</td>\n",
       "      <td>COMPACT</td>\n",
       "      <td>1.5</td>\n",
       "      <td>4</td>\n",
       "      <td>AV7</td>\n",
       "      <td>Z</td>\n",
       "      <td>6.0</td>\n",
       "      <td>5.8</td>\n",
       "      <td>5.9</td>\n",
       "      <td>48</td>\n",
       "      <td>136</td>\n",
       "    </tr>\n",
       "    <tr>\n",
       "      <th>3</th>\n",
       "      <td>2014</td>\n",
       "      <td>ACURA</td>\n",
       "      <td>MDX 4WD</td>\n",
       "      <td>SUV - SMALL</td>\n",
       "      <td>3.5</td>\n",
       "      <td>6</td>\n",
       "      <td>AS6</td>\n",
       "      <td>Z</td>\n",
       "      <td>12.7</td>\n",
       "      <td>9.1</td>\n",
       "      <td>11.1</td>\n",
       "      <td>25</td>\n",
       "      <td>255</td>\n",
       "    </tr>\n",
       "    <tr>\n",
       "      <th>4</th>\n",
       "      <td>2014</td>\n",
       "      <td>ACURA</td>\n",
       "      <td>RDX AWD</td>\n",
       "      <td>SUV - SMALL</td>\n",
       "      <td>3.5</td>\n",
       "      <td>6</td>\n",
       "      <td>AS6</td>\n",
       "      <td>Z</td>\n",
       "      <td>12.1</td>\n",
       "      <td>8.7</td>\n",
       "      <td>10.6</td>\n",
       "      <td>27</td>\n",
       "      <td>244</td>\n",
       "    </tr>\n",
       "  </tbody>\n",
       "</table>\n",
       "</div>"
      ],
      "text/plain": [
       "   MODELYEAR   MAKE       MODEL VEHICLECLASS  ENGINESIZE  CYLINDERS  \\\n",
       "0       2014  ACURA         ILX      COMPACT         2.0          4   \n",
       "1       2014  ACURA         ILX      COMPACT         2.4          4   \n",
       "2       2014  ACURA  ILX HYBRID      COMPACT         1.5          4   \n",
       "3       2014  ACURA     MDX 4WD  SUV - SMALL         3.5          6   \n",
       "4       2014  ACURA     RDX AWD  SUV - SMALL         3.5          6   \n",
       "\n",
       "  TRANSMISSION FUELTYPE  FUELCONSUMPTION_CITY  FUELCONSUMPTION_HWY  \\\n",
       "0          AS5        Z                   9.9                  6.7   \n",
       "1           M6        Z                  11.2                  7.7   \n",
       "2          AV7        Z                   6.0                  5.8   \n",
       "3          AS6        Z                  12.7                  9.1   \n",
       "4          AS6        Z                  12.1                  8.7   \n",
       "\n",
       "   FUELCONSUMPTION_COMB  FUELCONSUMPTION_COMB_MPG  CO2EMISSIONS  \n",
       "0                   8.5                        33           196  \n",
       "1                   9.6                        29           221  \n",
       "2                   5.9                        48           136  \n",
       "3                  11.1                        25           255  \n",
       "4                  10.6                        27           244  "
      ]
     },
     "execution_count": 2,
     "metadata": {},
     "output_type": "execute_result"
    }
   ],
   "source": [
    "fuel = pd.read_csv(\"FuelConsumption.csv\")\n",
    "fuel.head()"
   ]
  },
  {
   "cell_type": "markdown",
   "id": "8a341dfb",
   "metadata": {},
   "source": [
    "## • Select the features 'ENGINESIZE', 'CYLINDERS', 'FUELCONSUMPTION_COMB',  'CO2EMISSIONS'  to  use  for  building  the model. Plot Emission values with respect to Engine size."
   ]
  },
  {
   "cell_type": "code",
   "execution_count": 3,
   "id": "da505858",
   "metadata": {},
   "outputs": [
    {
     "name": "stderr",
     "output_type": "stream",
     "text": [
      "/home/manvendra07/anaconda3/lib/python3.9/site-packages/seaborn/_decorators.py:36: FutureWarning: Pass the following variables as keyword args: x, y. From version 0.12, the only valid positional argument will be `data`, and passing other arguments without an explicit keyword will result in an error or misinterpretation.\n",
      "  warnings.warn(\n"
     ]
    },
    {
     "data": {
      "text/plain": [
       "<AxesSubplot:xlabel='ENGINESIZE', ylabel='CO2EMISSIONS'>"
      ]
     },
     "execution_count": 3,
     "metadata": {},
     "output_type": "execute_result"
    },
    {
     "data": {
      "image/png": "[encoded data removed]",
      "text/plain": [
       "<Figure size 1152x576 with 1 Axes>"
      ]
     },
     "metadata": {
      "needs_background": "light"
     },
     "output_type": "display_data"
    }
   ],
   "source": [
    "features = ['ENGINESIZE', 'CYLINDERS', 'FUELCONSUMPTION_COMB', 'CO2EMISSIONS']\n",
    "plt.figure(figsize = (16,8))\n",
    "sns.scatterplot(fuel['ENGINESIZE'], fuel['CO2EMISSIONS'])"
   ]
  },
  {
   "cell_type": "markdown",
   "id": "5a716fce",
   "metadata": {},
   "source": [
    "## • Split the data into training and test sets (70:30) to create a model using training set, evaluate the model using test set, and use model to predict unknown value."
   ]
  },
  {
   "cell_type": "code",
   "execution_count": 4,
   "id": "74be062b",
   "metadata": {},
   "outputs": [],
   "source": [
    "X = np.array(fuel[features].drop('CO2EMISSIONS', axis=1))\n",
    "Y = np.array(fuel['CO2EMISSIONS'])"
   ]
  },
  {
   "cell_type": "code",
   "execution_count": 5,
   "id": "c9a18847",
   "metadata": {},
   "outputs": [],
   "source": [
    "X_train, X_test, Y_train, Y_test = train_test_split(X, Y, test_size = 0.3, random_state = 42)"
   ]
  },
  {
   "cell_type": "code",
   "execution_count": 6,
   "id": "ad85ab44",
   "metadata": {},
   "outputs": [],
   "source": [
    "def residual_sum_squares(Y_pred, Y):\n",
    "    rss = np.sum(np.square(np.subtract(Y, Y_pred)))\n",
    "    return rss"
   ]
  },
  {
   "cell_type": "code",
   "execution_count": 7,
   "id": "11e35b4c",
   "metadata": {},
   "outputs": [
    {
     "name": "stdout",
     "output_type": "stream",
     "text": [
      "Mean Absolute Error =  16.539300418903483\n",
      "Residual Sum of Squares =  161656.61133440846\n",
      "R2 Score =  0.8523599126372825\n"
     ]
    }
   ],
   "source": [
    "linreg = LinearRegression().fit(X_train, Y_train)\n",
    "Y_pred = linreg.predict(X_test)\n",
    "\n",
    "print(\"Mean Absolute Error = \", mean_absolute_error(Y_pred, Y_test))\n",
    "print(\"Residual Sum of Squares = \", residual_sum_squares(Y_pred, Y_test))\n",
    "print(\"R2 Score = \", r2_score(Y_pred,Y_test))"
   ]
  },
  {
   "cell_type": "markdown",
   "id": "a6152790",
   "metadata": {},
   "source": [
    "## • Try to use a polynomial regression with the dataset of degree –3, 4 & 5. Verify the accuracy by calculating Mean absolute error, Residual sum of squares, R2-scoreand comment on which model is the best."
   ]
  },
  {
   "cell_type": "code",
   "execution_count": 8,
   "id": "466ecb52",
   "metadata": {},
   "outputs": [
    {
     "name": "stdout",
     "output_type": "stream",
     "text": [
      "\n",
      "Degree = 3\n",
      "Mean Absolute Error =  10.230711579367114\n",
      "Residual Sum of Squares =  87722.8057834628\n",
      "R2 Score =  0.9294012922878153\n",
      "\n",
      "Degree = 4\n",
      "Mean Absolute Error =  9.645980894379898\n",
      "Residual Sum of Squares =  82952.59861672464\n",
      "R2 Score =  0.9287337798311084\n",
      "\n",
      "Degree = 5\n",
      "Mean Absolute Error =  8.255203267309897\n",
      "Residual Sum of Squares =  74297.16372089565\n",
      "R2 Score =  0.9394227817547807\n"
     ]
    }
   ],
   "source": [
    "for p in range(3,6):\n",
    "    poly = make_pipeline(PolynomialFeatures(degree=p), LinearRegression())\n",
    "    poly.fit(X_train,Y_train)\n",
    "    Y_pred = poly.predict(X_test)\n",
    "    print(\"\\nDegree = \"+str(p))\n",
    "    print(\"Mean Absolute Error = \", mean_absolute_error(Y_pred, Y_test))\n",
    "    print(\"Residual Sum of Squares = \", residual_sum_squares(Y_pred, Y_test))\n",
    "    print(\"R2 Score = \", r2_score(Y_pred, Y_test))"
   ]
  },
  {
   "cell_type": "markdown",
   "id": "d8fdeed4",
   "metadata": {},
   "source": [
    "#### The model with degree = 5 is the best performing as it has the lowest MSE and highest R2 score. Going further if we increase the values of Degree we find overfitting as seen below therefore it is safe to conclude that model with Degree = 5 is the best performing."
   ]
  },
  {
   "cell_type": "code",
   "execution_count": 9,
   "id": "5a43b158",
   "metadata": {},
   "outputs": [
    {
     "name": "stdout",
     "output_type": "stream",
     "text": [
      "\n",
      "Degree = 6\n",
      "Mean Absolute Error =  31.23133883486586\n",
      "Residual Sum of Squares =  43405608.62995398\n",
      "R2 Score =  0.0675327837593146\n",
      "\n",
      "Degree = 7\n",
      "Mean Absolute Error =  122.0327793149062\n",
      "Residual Sum of Squares =  1141657798.095895\n",
      "R2 Score =  0.0075169458505378595\n",
      "\n",
      "Degree = 8\n",
      "Mean Absolute Error =  799.8882289470273\n",
      "Residual Sum of Squares =  59434242052.71706\n",
      "R2 Score =  -0.004234573971988231\n"
     ]
    }
   ],
   "source": [
    "for p in range(6,9):\n",
    "    poly = make_pipeline(PolynomialFeatures(degree=p), LinearRegression())\n",
    "    poly.fit(X_train,Y_train)\n",
    "    Y_pred = poly.predict(X_test)\n",
    "    print(\"\\nDegree = \"+str(p))\n",
    "    print(\"Mean Absolute Error = \", mean_absolute_error(Y_pred, Y_test))\n",
    "    print(\"Residual Sum of Squares = \", residual_sum_squares(Y_pred, Y_test))\n",
    "    print(\"R2 Score = \", r2_score(Y_pred, Y_test))"
   ]
  },
  {
   "cell_type": "markdown",
   "id": "bf732e49",
   "metadata": {},
   "source": [
    "#### Here we can see that suddenly the MSE shoots up which tells us that there is overfitting happening."
   ]
  }
 ],
 "metadata": {
  "kernelspec": {
   "display_name": "Python 3 (ipykernel)",
   "language": "python",
   "name": "python3"
  },
  "language_info": {
   "codemirror_mode": {
    "name": "ipython",
    "version": 3
   },
   "file_extension": ".py",
   "mimetype": "text/x-python",
   "name": "python",
   "nbconvert_exporter": "python",
   "pygments_lexer": "ipython3",
   "version": "3.9.7"
  }
 },
 "nbformat": 4,
 "nbformat_minor": 5
}
