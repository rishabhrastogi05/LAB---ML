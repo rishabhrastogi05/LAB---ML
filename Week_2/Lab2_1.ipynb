{
 "cells": [
  {
   "cell_type": "code",
   "execution_count": 151,
   "id": "37aad274",
   "metadata": {},
   "outputs": [],
   "source": [
    "import pandas as pd\n",
    "import numpy as np\n",
    "from matplotlib import pyplot as plt\n",
    "from scipy.stats import chi2_contingency\n",
    "import seaborn as sns\n",
    "from sklearn.model_selection import train_test_split\n",
    "from sklearn.linear_model import LogisticRegression\n",
    "from sklearn.metrics import confusion_matrix, roc_curve"
   ]
  },
  {
   "cell_type": "markdown",
   "id": "78a724ae",
   "metadata": {},
   "source": [
    "# Use the “pima-indians-diabetes.csv” dataset and note down the meta information."
   ]
  },
  {
   "cell_type": "code",
   "execution_count": 25,
   "id": "9050da32",
   "metadata": {},
   "outputs": [
    {
     "data": {
      "text/html": [
       "<div>\n",
       "<style scoped>\n",
       "    .dataframe tbody tr th:only-of-type {\n",
       "        vertical-align: middle;\n",
       "    }\n",
       "\n",
       "    .dataframe tbody tr th {\n",
       "        vertical-align: top;\n",
       "    }\n",
       "\n",
       "    .dataframe thead th {\n",
       "        text-align: right;\n",
       "    }\n",
       "</style>\n",
       "<table border=\"1\" class=\"dataframe\">\n",
       "  <thead>\n",
       "    <tr style=\"text-align: right;\">\n",
       "      <th></th>\n",
       "      <th>Pregnancies</th>\n",
       "      <th>Glucose</th>\n",
       "      <th>BloodPressure</th>\n",
       "      <th>SkinThickness</th>\n",
       "      <th>Insulin</th>\n",
       "      <th>BMI</th>\n",
       "      <th>DiabetesPedigreeFunction</th>\n",
       "      <th>Age</th>\n",
       "      <th>Outcome</th>\n",
       "    </tr>\n",
       "  </thead>\n",
       "  <tbody>\n",
       "    <tr>\n",
       "      <th>0</th>\n",
       "      <td>6</td>\n",
       "      <td>148</td>\n",
       "      <td>72</td>\n",
       "      <td>35</td>\n",
       "      <td>0</td>\n",
       "      <td>33.6</td>\n",
       "      <td>0.627</td>\n",
       "      <td>50</td>\n",
       "      <td>1</td>\n",
       "    </tr>\n",
       "    <tr>\n",
       "      <th>1</th>\n",
       "      <td>1</td>\n",
       "      <td>85</td>\n",
       "      <td>66</td>\n",
       "      <td>29</td>\n",
       "      <td>0</td>\n",
       "      <td>26.6</td>\n",
       "      <td>0.351</td>\n",
       "      <td>31</td>\n",
       "      <td>0</td>\n",
       "    </tr>\n",
       "    <tr>\n",
       "      <th>2</th>\n",
       "      <td>8</td>\n",
       "      <td>183</td>\n",
       "      <td>64</td>\n",
       "      <td>0</td>\n",
       "      <td>0</td>\n",
       "      <td>23.3</td>\n",
       "      <td>0.672</td>\n",
       "      <td>32</td>\n",
       "      <td>1</td>\n",
       "    </tr>\n",
       "    <tr>\n",
       "      <th>3</th>\n",
       "      <td>1</td>\n",
       "      <td>89</td>\n",
       "      <td>66</td>\n",
       "      <td>23</td>\n",
       "      <td>94</td>\n",
       "      <td>28.1</td>\n",
       "      <td>0.167</td>\n",
       "      <td>21</td>\n",
       "      <td>0</td>\n",
       "    </tr>\n",
       "    <tr>\n",
       "      <th>4</th>\n",
       "      <td>0</td>\n",
       "      <td>137</td>\n",
       "      <td>40</td>\n",
       "      <td>35</td>\n",
       "      <td>168</td>\n",
       "      <td>43.1</td>\n",
       "      <td>2.288</td>\n",
       "      <td>33</td>\n",
       "      <td>1</td>\n",
       "    </tr>\n",
       "  </tbody>\n",
       "</table>\n",
       "</div>"
      ],
      "text/plain": [
       "   Pregnancies  Glucose  BloodPressure  SkinThickness  Insulin   BMI  \\\n",
       "0            6      148             72             35        0  33.6   \n",
       "1            1       85             66             29        0  26.6   \n",
       "2            8      183             64              0        0  23.3   \n",
       "3            1       89             66             23       94  28.1   \n",
       "4            0      137             40             35      168  43.1   \n",
       "\n",
       "   DiabetesPedigreeFunction  Age  Outcome  \n",
       "0                     0.627   50        1  \n",
       "1                     0.351   31        0  \n",
       "2                     0.672   32        1  \n",
       "3                     0.167   21        0  \n",
       "4                     2.288   33        1  "
      ]
     },
     "execution_count": 25,
     "metadata": {},
     "output_type": "execute_result"
    }
   ],
   "source": [
    "diabetes = pd.read_csv(\"diabetes.csv\")\n",
    "diabetes.head()"
   ]
  },
  {
   "cell_type": "code",
   "execution_count": 6,
   "id": "820de71a",
   "metadata": {},
   "outputs": [
    {
     "name": "stdout",
     "output_type": "stream",
     "text": [
      "<class 'pandas.core.frame.DataFrame'>\n",
      "RangeIndex: 768 entries, 0 to 767\n",
      "Data columns (total 9 columns):\n",
      " #   Column                    Non-Null Count  Dtype  \n",
      "---  ------                    --------------  -----  \n",
      " 0   Pregnancies               768 non-null    int64  \n",
      " 1   Glucose                   768 non-null    int64  \n",
      " 2   BloodPressure             768 non-null    int64  \n",
      " 3   SkinThickness             768 non-null    int64  \n",
      " 4   Insulin                   768 non-null    int64  \n",
      " 5   BMI                       768 non-null    float64\n",
      " 6   DiabetesPedigreeFunction  768 non-null    float64\n",
      " 7   Age                       768 non-null    int64  \n",
      " 8   Outcome                   768 non-null    int64  \n",
      "dtypes: float64(2), int64(7)\n",
      "memory usage: 54.1 KB\n"
     ]
    }
   ],
   "source": [
    "diabetes.info()"
   ]
  },
  {
   "cell_type": "markdown",
   "id": "f66d31c0",
   "metadata": {},
   "source": [
    "###  1. Title: Pima Indians Diabetes Database\n",
    "\n",
    " \n",
    "### 2. Sources:\n",
    "\n",
    "    (a) Original owners: National Institute of Diabetes and Digestive and\n",
    "\n",
    "                         Kidney Diseases\n",
    "\n",
    "    (b) Donor of database: Vincent Sigillito (vgs@aplcen.apl.jhu.edu)\n",
    "\n",
    "                           Research Center, RMI Group Leader\n",
    "\n",
    "                           Applied Physics Laboratory\n",
    "\n",
    "                           The Johns Hopkins University\n",
    "\n",
    "                           Johns Hopkins Road\n",
    "\n",
    "                           Laurel, MD 20707\n",
    "\n",
    "                           (301) 953-6231\n",
    "\n",
    "    (c) Date received: 9 May 1990\n",
    "\n",
    " \n",
    "\n",
    "### 3. Past Usage:\n",
    "\n",
    "     1. Smith,~J.~W., Everhart,~J.~E., Dickson,~W.~C., Knowler,~W.~C., \\&\n",
    "\n",
    "        Johannes,~R.~S. (1988). Using the ADAP learning algorithm to forecast\n",
    "\n",
    "        the onset of diabetes mellitus.  In {\\it Proceedings of the Symposium\n",
    "\n",
    "        on Computer Applications and Medical Care} (pp. 261--265).  IEEE\n",
    "\n",
    "        Computer Society Press.\n",
    "\n",
    " \n",
    "\n",
    "        The diagnostic, binary-valued variable investigated is whether the\n",
    "\n",
    "        patient shows signs of diabetes according to World Health Organization\n",
    "\n",
    "        criteria (i.e., if the 2 hour post-load plasma glucose was at least \n",
    "\n",
    "        200 mg/dl at any survey  examination or if found during routine medical\n",
    "\n",
    "        care).   The population lives near Phoenix, Arizona, USA.\n",
    "\n",
    " \n",
    "\n",
    "        Results: Their ADAP algorithm makes a real-valued prediction between\n",
    "\n",
    "        0 and 1.  This was transformed into a binary decision using a cutoff of \n",
    "\n",
    "        0.448.  Using 576 training instances, the sensitivity and specificity\n",
    "\n",
    "        of their algorithm was 76\n",
    " \n",
    "\n",
    "### 4. Relevant Information:\n",
    "\n",
    "       Several constraints were placed on the selection of these instances from\n",
    "\n",
    "       a larger database.  In particular, all patients here are females at\n",
    "\n",
    "       least 21 years old of Pima Indian heritage.  ADAP is an adaptive learning\n",
    "\n",
    "       routine that generates and executes digital analogs of perceptron-like\n",
    "\n",
    "       devices.  It is a unique algorithm; see the paper for details.\n",
    "\n",
    " \n",
    "\n",
    "### 5. Number of Instances: 768\n",
    "\n",
    " \n",
    "\n",
    "### 6. Number of Attributes: 8 plus class \n",
    "\n",
    " \n",
    "\n",
    "### 7. For Each Attribute: (all numeric-valued)\n",
    "\n",
    "    1. Number of times pregnant\n",
    "\n",
    "    2. Plasma glucose concentration a 2 hours in an oral glucose tolerance test\n",
    "\n",
    "    3. Diastolic blood pressure (mm Hg)\n",
    "\n",
    "    4. Triceps skin fold thickness (mm)\n",
    "\n",
    "    5. 2-Hour serum insulin (mu U/ml)\n",
    "\n",
    "    6. Body mass index (weight in kg/(height in m)^2)\n",
    "\n",
    "    7. Diabetes pedigree function\n",
    "\n",
    "    8. Age (years)\n",
    "\n",
    "    9. Class variable (0 or 1)\n",
    "\n",
    " \n",
    "\n",
    "### 8. Missing Attribute Values: None\n",
    "\n",
    " \n",
    "\n",
    "### 9. Class Distribution: (class value 1 is interpreted as \"tested positive for\n",
    "\n",
    "    diabetes\")\n",
    "\n",
    " \n",
    "\n",
    "    Class Value  Number of instances\n",
    "\n",
    "    0            500\n",
    "\n",
    "    1            268\n",
    "\n",
    " \n",
    "\n",
    "### 10. Brief statistical analysis:\n",
    "\n",
    " \n",
    "\n",
    "     Attribute number:    Mean:   Standard Deviation:\n",
    "\n",
    "     1.                     3.8     3.4\n",
    "\n",
    "     2.                   120.9    32.0\n",
    "\n",
    "     3.                    69.1    19.4\n",
    "\n",
    "     4.                    20.5    16.0\n",
    "\n",
    "     5.                    79.8   115.2\n",
    "\n",
    "     6.                    32.0     7.9\n",
    "\n",
    "     7.                     0.5     0.3\n",
    "\n",
    "     8.                    33.2    11.8\n",
    "\n",
    "\n",
    "### Relabeled values in attribute 'class'\n",
    "\n",
    "    From: 0                       To: tested_negative     \n",
    "\n",
    "    From: 1                       To: tested_positive  "
   ]
  },
  {
   "cell_type": "markdown",
   "id": "3924c228",
   "metadata": {},
   "source": [
    "# Compute mean & standard deviation ,tabulate and visualize the age of the patients."
   ]
  },
  {
   "cell_type": "code",
   "execution_count": 16,
   "id": "ffd3ef04",
   "metadata": {
    "scrolled": false
   },
   "outputs": [
    {
     "data": {
      "text/plain": [
       "count    768.000000\n",
       "mean      33.240885\n",
       "std       11.760232\n",
       "min       21.000000\n",
       "25%       24.000000\n",
       "50%       29.000000\n",
       "75%       41.000000\n",
       "max       81.000000\n",
       "Name: Age, dtype: float64"
      ]
     },
     "execution_count": 16,
     "metadata": {},
     "output_type": "execute_result"
    }
   ],
   "source": [
    "diabetes.Age.describe()"
   ]
  },
  {
   "cell_type": "code",
   "execution_count": 185,
   "id": "bd9450fd",
   "metadata": {},
   "outputs": [
    {
     "data": {
      "text/plain": [
       "<AxesSubplot:xlabel='Age', ylabel='Density'>"
      ]
     },
     "execution_count": 185,
     "metadata": {},
     "output_type": "execute_result"
    },
    {
     "data": {
      "image/png": "[encoded data removed]",
      "text/plain": [
       "<Figure size 432x288 with 1 Axes>"
      ]
     },
     "metadata": {
      "needs_background": "light"
     },
     "output_type": "display_data"
    }
   ],
   "source": [
    "sns.kdeplot(data = diabetes.Age, color = 'green', shade = True)"
   ]
  },
  {
   "cell_type": "markdown",
   "id": "10c28451",
   "metadata": {},
   "source": [
    "# Analyze and tabulate therelationship of age,BMI of patientswith respect to the class."
   ]
  },
  {
   "cell_type": "code",
   "execution_count": 73,
   "id": "4436941d",
   "metadata": {},
   "outputs": [],
   "source": [
    "def outlier_normalisation(data):\n",
    "    upper = data.quantile(0.75)\n",
    "    lower = data.quantile(0.25)\n",
    "    iqr = upper - lower\n",
    "    factor = iqr * 1.5\n",
    "    cond = (data >= upper + factor) | (data <= lower - factor)\n",
    "    data.loc[cond] = data.median()\n",
    "    return data\n",
    "\n",
    "\n",
    "\n",
    "diabetes[['Pregnancies','Glucose','BloodPressure','SkinThickness','Insulin','BMI','DiabetesPedigreeFunction','Age']] = diabetes[['Pregnancies','Glucose','BloodPressure','SkinThickness','Insulin','BMI','DiabetesPedigreeFunction','Age']].apply(outlier_normalisation)"
   ]
  },
  {
   "cell_type": "code",
   "execution_count": 74,
   "id": "54029d0f",
   "metadata": {},
   "outputs": [],
   "source": [
    "contigency_1 = pd.crosstab(index = diabetes[\"Outcome\"], columns = diabetes[\"BMI\"])\n",
    "contigency_2 = pd.crosstab(index = diabetes[\"Outcome\"], columns = diabetes[\"Age\"])"
   ]
  },
  {
   "cell_type": "code",
   "execution_count": 75,
   "id": "14c908a9",
   "metadata": {},
   "outputs": [
    {
     "name": "stdout",
     "output_type": "stream",
     "text": [
      "P-value =  0.05271826184548281\n"
     ]
    }
   ],
   "source": [
    "c, p, dof, expected = chi2_contingency(contigency_1)\n",
    "print(\"P-value = \", p)"
   ]
  },
  {
   "cell_type": "code",
   "execution_count": 76,
   "id": "bf728cbc",
   "metadata": {},
   "outputs": [
    {
     "name": "stdout",
     "output_type": "stream",
     "text": [
      "P-value =  5.354261982147526e-11\n"
     ]
    }
   ],
   "source": [
    "c, p, dof, expected = chi2_contingency(contigency_2)\n",
    "print(\"P-value = \", p)"
   ]
  },
  {
   "cell_type": "code",
   "execution_count": 107,
   "id": "e5b26403",
   "metadata": {},
   "outputs": [
    {
     "data": {
      "text/plain": [
       "<Figure size 720x720 with 0 Axes>"
      ]
     },
     "metadata": {},
     "output_type": "display_data"
    },
    {
     "data": {
      "image/png": "[encoded data removed]",
      "text/plain": [
       "<Figure size 360x360 with 1 Axes>"
      ]
     },
     "metadata": {
      "needs_background": "light"
     },
     "output_type": "display_data"
    }
   ],
   "source": [
    "plt.figure(figsize = (10,10))\n",
    "g = sns.catplot(data = diabetes , x= 'Outcome', y = 'BMI')"
   ]
  },
  {
   "cell_type": "code",
   "execution_count": 117,
   "id": "10380202",
   "metadata": {},
   "outputs": [
    {
     "data": {
      "text/plain": [
       "<Figure size 720x720 with 0 Axes>"
      ]
     },
     "metadata": {},
     "output_type": "display_data"
    },
    {
     "data": {
      "image/png": "[encoded data removed]",
      "text/plain": [
       "<Figure size 360x360 with 1 Axes>"
      ]
     },
     "metadata": {
      "needs_background": "light"
     },
     "output_type": "display_data"
    }
   ],
   "source": [
    "plt.figure(figsize = (10,10))\n",
    "g = sns.catplot(data = diabetes, x='Outcome', y= 'Age')\n",
    "plt.show()"
   ]
  },
  {
   "cell_type": "markdown",
   "id": "f018bbd5",
   "metadata": {},
   "source": [
    "# Tabulate the class label and comment on whether the classes are balanced."
   ]
  },
  {
   "cell_type": "code",
   "execution_count": 32,
   "id": "b529db24",
   "metadata": {},
   "outputs": [
    {
     "data": {
      "text/plain": [
       "0    500\n",
       "1    268\n",
       "Name: Outcome, dtype: int64"
      ]
     },
     "execution_count": 32,
     "metadata": {},
     "output_type": "execute_result"
    }
   ],
   "source": [
    "diabetes.Outcome.value_counts()"
   ]
  },
  {
   "cell_type": "markdown",
   "id": "7ab35f48",
   "metadata": {},
   "source": [
    "### Since the values are not exceeding '1' or '0' therefore the Outcome (class) is balanced"
   ]
  },
  {
   "cell_type": "markdown",
   "id": "5b2c671f",
   "metadata": {},
   "source": [
    "# Use the data set to build a logistic regression model (using sklearn) and predict the class label. Divide the dataset into training and test set (70,30) using train_test_splitmethod in sklearn. "
   ]
  },
  {
   "cell_type": "code",
   "execution_count": 79,
   "id": "ff48e428",
   "metadata": {},
   "outputs": [
    {
     "name": "stdout",
     "output_type": "stream",
     "text": [
      "(768, 8)\n",
      "(768,)\n"
     ]
    }
   ],
   "source": [
    "X = diabetes.iloc[:,0:8]\n",
    "Y = diabetes['Outcome']\n",
    "\n",
    "X = np.array(X)\n",
    "Y = np.array(Y)\n",
    "\n",
    "print(X.shape)\n",
    "print(Y.shape)"
   ]
  },
  {
   "cell_type": "code",
   "execution_count": 187,
   "id": "4a28955f",
   "metadata": {},
   "outputs": [
    {
     "name": "stdout",
     "output_type": "stream",
     "text": [
      "Score =  0.7662337662337663\n"
     ]
    }
   ],
   "source": [
    "X_train,X_test,Y_train,Y_test = train_test_split(X,Y,test_size=0.3)\n",
    "\n",
    "logreg = LogisticRegression(max_iter = 10000).fit(X_train, Y_train)\n",
    "Y_pred = logreg.predict(X_test)\n",
    "score = logreg.score(X_test, Y_test)\n",
    "print(\"Score = \", score)"
   ]
  },
  {
   "cell_type": "markdown",
   "id": "21995e31",
   "metadata": {},
   "source": [
    "# Use the test data set and evaluate the performance using a confusion matrix. Visualize the confusion matrix using a heat map."
   ]
  },
  {
   "cell_type": "code",
   "execution_count": 147,
   "id": "8edcc221",
   "metadata": {},
   "outputs": [
    {
     "data": {
      "text/plain": [
       "array([[137,  20],\n",
       "       [ 34,  40]], dtype=int64)"
      ]
     },
     "execution_count": 147,
     "metadata": {},
     "output_type": "execute_result"
    }
   ],
   "source": [
    "cf_matrix = confusion_matrix(Y_test, Y_pred)\n",
    "cf_matrix"
   ]
  },
  {
   "cell_type": "code",
   "execution_count": 148,
   "id": "180ee723",
   "metadata": {},
   "outputs": [
    {
     "data": {
      "image/png": "[encoded data removed]",
      "text/plain": [
       "<Figure size 720x360 with 2 Axes>"
      ]
     },
     "metadata": {
      "needs_background": "light"
     },
     "output_type": "display_data"
    }
   ],
   "source": [
    "plt.figure(figsize = (10,5))\n",
    "g = sns.heatmap(cf_matrix, annot = True)\n",
    "g.set_xlabel(\"Predicted Values\")\n",
    "g.set_ylabel(\"Actual Values\")\n",
    "plt.show()"
   ]
  },
  {
   "cell_type": "markdown",
   "id": "f7e5c75f",
   "metadata": {},
   "source": [
    "# Compute accuracy rate, true positive and true negative rate and comment on the performance"
   ]
  },
  {
   "cell_type": "code",
   "execution_count": 149,
   "id": "0fa993ce",
   "metadata": {},
   "outputs": [
    {
     "name": "stdout",
     "output_type": "stream",
     "text": [
      "True Positive Rate =  0.4594594594594595\n",
      "True Negative Rate =  0.8726114649681529\n",
      "Accuracy =  0.7402597402597403\n"
     ]
    }
   ],
   "source": [
    "TN = cf_matrix[0,0]\n",
    "TP = cf_matrix[1,0]\n",
    "FP = cf_matrix[0,1]\n",
    "FN = cf_matrix[1,1]\n",
    "\n",
    "TPR = TP / (TP+FN)\n",
    "TNR = TN / (TN+FP)\n",
    "Accuracy = (TP+TN) / (TP+TN+FP+FN)\n",
    "print(\"True Positive Rate = \", TPR)\n",
    "print(\"True Negative Rate = \", TNR)\n",
    "print(\"Accuracy = \", Accuracy)"
   ]
  },
  {
   "cell_type": "markdown",
   "id": "82ab413e",
   "metadata": {},
   "source": [
    "# Visualize the ROC curve, and comment on the performance of the classifier."
   ]
  },
  {
   "cell_type": "code",
   "execution_count": 188,
   "id": "da5462fe",
   "metadata": {},
   "outputs": [
    {
     "data": {
      "image/png": "[encoded data removed]",
      "text/plain": [
       "<Figure size 432x288 with 1 Axes>"
      ]
     },
     "metadata": {
      "needs_background": "light"
     },
     "output_type": "display_data"
    }
   ],
   "source": [
    "Y_pred_proba = logreg.predict_proba(X_test)[::, 1]\n",
    "fpr, tpr, _ = roc_curve(Y_test, Y_pred_proba)\n",
    "plt.plot(fpr,tpr)\n",
    "plt.ylabel('True Positive Rate')\n",
    "plt.xlabel('False Positive Rate')\n",
    "plt.show()"
   ]
  }
 ],
 "metadata": {
  "kernelspec": {
   "display_name": "Python 3 (ipykernel)",
   "language": "python",
   "name": "python3"
  },
  "language_info": {
   "codemirror_mode": {
    "name": "ipython",
    "version": 3
   },
   "file_extension": ".py",
   "mimetype": "text/x-python",
   "name": "python",
   "nbconvert_exporter": "python",
   "pygments_lexer": "ipython3",
   "version": "3.9.7"
  }
 },
 "nbformat": 4,
 "nbformat_minor": 5
}
