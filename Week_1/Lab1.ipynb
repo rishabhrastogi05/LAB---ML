{
 "cells": [
  {
   "cell_type": "code",
   "execution_count": 122,
   "id": "3c58acec",
   "metadata": {},
   "outputs": [],
   "source": [
    "import pandas as pd\n",
    "import numpy as np\n",
    "from matplotlib import pyplot as plt\n",
    "from sklearn.model_selection import train_test_split"
   ]
  },
  {
   "cell_type": "code",
   "execution_count": 123,
   "id": "5f89ecf0",
   "metadata": {},
   "outputs": [
    {
     "data": {
      "text/html": [
       "<div>\n",
       "<style scoped>\n",
       "    .dataframe tbody tr th:only-of-type {\n",
       "        vertical-align: middle;\n",
       "    }\n",
       "\n",
       "    .dataframe tbody tr th {\n",
       "        vertical-align: top;\n",
       "    }\n",
       "\n",
       "    .dataframe thead th {\n",
       "        text-align: right;\n",
       "    }\n",
       "</style>\n",
       "<table border=\"1\" class=\"dataframe\">\n",
       "  <thead>\n",
       "    <tr style=\"text-align: right;\">\n",
       "      <th></th>\n",
       "      <th>model</th>\n",
       "      <th>mpg</th>\n",
       "      <th>cyl</th>\n",
       "      <th>disp</th>\n",
       "      <th>hp</th>\n",
       "      <th>drat</th>\n",
       "      <th>wt</th>\n",
       "      <th>qsec</th>\n",
       "      <th>vs</th>\n",
       "      <th>am</th>\n",
       "      <th>gear</th>\n",
       "      <th>carb</th>\n",
       "    </tr>\n",
       "  </thead>\n",
       "  <tbody>\n",
       "    <tr>\n",
       "      <th>0</th>\n",
       "      <td>Mazda RX4</td>\n",
       "      <td>21.0</td>\n",
       "      <td>6</td>\n",
       "      <td>160.0</td>\n",
       "      <td>110</td>\n",
       "      <td>3.90</td>\n",
       "      <td>2.620</td>\n",
       "      <td>16.46</td>\n",
       "      <td>0</td>\n",
       "      <td>1</td>\n",
       "      <td>4</td>\n",
       "      <td>4</td>\n",
       "    </tr>\n",
       "    <tr>\n",
       "      <th>1</th>\n",
       "      <td>Mazda RX4 Wag</td>\n",
       "      <td>21.0</td>\n",
       "      <td>6</td>\n",
       "      <td>160.0</td>\n",
       "      <td>110</td>\n",
       "      <td>3.90</td>\n",
       "      <td>2.875</td>\n",
       "      <td>17.02</td>\n",
       "      <td>0</td>\n",
       "      <td>1</td>\n",
       "      <td>4</td>\n",
       "      <td>4</td>\n",
       "    </tr>\n",
       "    <tr>\n",
       "      <th>2</th>\n",
       "      <td>Datsun 710</td>\n",
       "      <td>22.8</td>\n",
       "      <td>4</td>\n",
       "      <td>108.0</td>\n",
       "      <td>93</td>\n",
       "      <td>3.85</td>\n",
       "      <td>2.320</td>\n",
       "      <td>18.61</td>\n",
       "      <td>1</td>\n",
       "      <td>1</td>\n",
       "      <td>4</td>\n",
       "      <td>1</td>\n",
       "    </tr>\n",
       "    <tr>\n",
       "      <th>3</th>\n",
       "      <td>Hornet 4 Drive</td>\n",
       "      <td>21.4</td>\n",
       "      <td>6</td>\n",
       "      <td>258.0</td>\n",
       "      <td>110</td>\n",
       "      <td>3.08</td>\n",
       "      <td>3.215</td>\n",
       "      <td>19.44</td>\n",
       "      <td>1</td>\n",
       "      <td>0</td>\n",
       "      <td>3</td>\n",
       "      <td>1</td>\n",
       "    </tr>\n",
       "    <tr>\n",
       "      <th>4</th>\n",
       "      <td>Hornet Sportabout</td>\n",
       "      <td>18.7</td>\n",
       "      <td>8</td>\n",
       "      <td>360.0</td>\n",
       "      <td>175</td>\n",
       "      <td>3.15</td>\n",
       "      <td>3.440</td>\n",
       "      <td>17.02</td>\n",
       "      <td>0</td>\n",
       "      <td>0</td>\n",
       "      <td>3</td>\n",
       "      <td>2</td>\n",
       "    </tr>\n",
       "  </tbody>\n",
       "</table>\n",
       "</div>"
      ],
      "text/plain": [
       "               model   mpg  cyl   disp   hp  drat     wt   qsec  vs  am  gear  \\\n",
       "0          Mazda RX4  21.0    6  160.0  110  3.90  2.620  16.46   0   1     4   \n",
       "1      Mazda RX4 Wag  21.0    6  160.0  110  3.90  2.875  17.02   0   1     4   \n",
       "2         Datsun 710  22.8    4  108.0   93  3.85  2.320  18.61   1   1     4   \n",
       "3     Hornet 4 Drive  21.4    6  258.0  110  3.08  3.215  19.44   1   0     3   \n",
       "4  Hornet Sportabout  18.7    8  360.0  175  3.15  3.440  17.02   0   0     3   \n",
       "\n",
       "   carb  \n",
       "0     4  \n",
       "1     4  \n",
       "2     1  \n",
       "3     1  \n",
       "4     2  "
      ]
     },
     "execution_count": 123,
     "metadata": {},
     "output_type": "execute_result"
    }
   ],
   "source": [
    "mtcars = pd.read_csv(\"mtcars.csv\")\n",
    "mtcars.head()"
   ]
  },
  {
   "cell_type": "code",
   "execution_count": 124,
   "id": "b36bb712",
   "metadata": {},
   "outputs": [
    {
     "name": "stdout",
     "output_type": "stream",
     "text": [
      "X =  [2.62  2.875 2.32  3.215 3.44  3.46  3.57  3.19  3.15  3.44  3.44  4.07\n",
      " 3.73  3.78  5.25  5.424 5.345 2.2   1.615 1.835 2.465 3.52  3.435 3.84\n",
      " 3.845 1.935 2.14  1.513 3.17  2.77  3.57  2.78 ]\n",
      "Y =  [21.  21.  22.8 21.4 18.7 18.1 14.3 24.4 22.8 19.2 17.8 16.4 17.3 15.2\n",
      " 10.4 10.4 14.7 32.4 30.4 33.9 21.5 15.5 15.2 13.3 19.2 27.3 26.  30.4\n",
      " 15.8 19.7 15.  21.4]\n"
     ]
    }
   ],
   "source": [
    "X = mtcars.wt\n",
    "X = np.array(X)\n",
    "\n",
    "Y = mtcars.mpg\n",
    "Y = np.array(Y)\n",
    "\n",
    "print(\"X = \",X)\n",
    "\n",
    "print(\"Y = \",Y)"
   ]
  },
  {
   "cell_type": "markdown",
   "id": "bf53594b",
   "metadata": {},
   "source": [
    "## Write a user defined function ‘myFnLinReg(x,y)’to perform Simple Linear Regression given one predictor attribute and one response attribute. The function should return the coefficients of the straight line."
   ]
  },
  {
   "cell_type": "code",
   "execution_count": 125,
   "id": "cf6fdd3a",
   "metadata": {},
   "outputs": [],
   "source": [
    "def myFnLinReg(x,y):\n",
    "\n",
    "    x_mean = np.mean(X)\n",
    "    y_mean = np.mean(Y)\n",
    "\n",
    "    beta1 = np.sum((X-x_mean)*(Y-y_mean))/np.sum((X-x_mean)**2)\n",
    "    beta0 = y_mean - beta1*x_mean\n",
    "\n",
    "    return beta0, beta1"
   ]
  },
  {
   "cell_type": "markdown",
   "id": "1dce23bb",
   "metadata": {},
   "source": [
    "## Use mtcars data set and consider the attributes mpg and weight. Split data into train and test sets (80 %,20%). Put training data set to ‘myFnLinReg(x,y)’ to build a linear regression model to predict mpg given the weight of the car."
   ]
  },
  {
   "cell_type": "code",
   "execution_count": 126,
   "id": "462f112b",
   "metadata": {},
   "outputs": [
    {
     "name": "stdout",
     "output_type": "stream",
     "text": [
      "y = 37.285126167342035 + -5.344471572722677x\n"
     ]
    }
   ],
   "source": [
    "beta0, beta1 = myFnLinReg(X,Y)\n",
    "Y_pred = beta0 + beta1*X\n",
    "print(\"y = {} + {}x\".format(beta0,beta1))"
   ]
  },
  {
   "cell_type": "code",
   "execution_count": 127,
   "id": "28ed2b0c",
   "metadata": {},
   "outputs": [
    {
     "data": {
      "text/plain": [
       "Text(0, 0.5, 'Miles per Gallon')"
      ]
     },
     "execution_count": 127,
     "metadata": {},
     "output_type": "execute_result"
    },
    {
     "data": {
      "image/png": "[encoded data removed]",
      "text/plain": [
       "<Figure size 432x288 with 1 Axes>"
      ]
     },
     "metadata": {
      "needs_background": "light"
     },
     "output_type": "display_data"
    }
   ],
   "source": [
    "plt.scatter(X,Y)\n",
    "plt.plot(X, Y_pred)\n",
    "plt.xlabel(\"Weight\")\n",
    "plt.ylabel(\"Miles per Gallon\")"
   ]
  },
  {
   "cell_type": "code",
   "execution_count": 128,
   "id": "0936a997",
   "metadata": {},
   "outputs": [],
   "source": [
    "X_train,X_test,Y_train,Y_test = train_test_split(X,Y,test_size=0.2)"
   ]
  },
  {
   "cell_type": "code",
   "execution_count": 129,
   "id": "f1de46cb",
   "metadata": {},
   "outputs": [],
   "source": [
    "beta0, beta1 = myFnLinReg(X_train,Y_train)\n",
    "Y_pred_train = beta0 + beta1*X_train"
   ]
  },
  {
   "cell_type": "code",
   "execution_count": 130,
   "id": "7823654a",
   "metadata": {},
   "outputs": [
    {
     "data": {
      "text/plain": [
       "Text(0, 0.5, 'Miles per Gallon')"
      ]
     },
     "execution_count": 130,
     "metadata": {},
     "output_type": "execute_result"
    },
    {
     "data": {
      "image/png": "[encoded data removed]",
      "text/plain": [
       "<Figure size 432x288 with 1 Axes>"
      ]
     },
     "metadata": {
      "needs_background": "light"
     },
     "output_type": "display_data"
    }
   ],
   "source": [
    "plt.scatter(X_train,Y_train)\n",
    "plt.plot(X_train, Y_pred_train)\n",
    "plt.xlabel(\"Weight\")\n",
    "plt.ylabel(\"Miles per Gallon\")"
   ]
  },
  {
   "cell_type": "code",
   "execution_count": 131,
   "id": "07c2a4e1",
   "metadata": {},
   "outputs": [],
   "source": [
    "def predict(x_test):\n",
    "    y = beta0 + beta1*x_test\n",
    "    return y"
   ]
  },
  {
   "cell_type": "markdown",
   "id": "47264f78",
   "metadata": {},
   "source": [
    "## What is the mpg of a car, whose weight is 5.5?"
   ]
  },
  {
   "cell_type": "code",
   "execution_count": 132,
   "id": "daf68384",
   "metadata": {},
   "outputs": [
    {
     "name": "stdout",
     "output_type": "stream",
     "text": [
      "MPG of car with weight 5.5 = 7.890532517367312 MPG\n"
     ]
    }
   ],
   "source": [
    "print(\"MPG of car with weight 5.5 = {} MPG\".format(predict(5.5)))"
   ]
  },
  {
   "cell_type": "code",
   "execution_count": 133,
   "id": "a30d73da",
   "metadata": {},
   "outputs": [],
   "source": [
    "Y_pred_test = predict(X_test)"
   ]
  },
  {
   "cell_type": "code",
   "execution_count": 134,
   "id": "c3cdac73",
   "metadata": {},
   "outputs": [
    {
     "data": {
      "text/plain": [
       "Text(0, 0.5, 'Miles per Gallon')"
      ]
     },
     "execution_count": 134,
     "metadata": {},
     "output_type": "execute_result"
    },
    {
     "data": {
      "image/png": "[encoded data removed]",
      "text/plain": [
       "<Figure size 432x288 with 1 Axes>"
      ]
     },
     "metadata": {
      "needs_background": "light"
     },
     "output_type": "display_data"
    }
   ],
   "source": [
    "plt.scatter(X_test,Y_test)\n",
    "plt.plot(X_test, Y_pred_test)\n",
    "plt.xlabel(\"Weight\")\n",
    "plt.ylabel(\"Miles per Gallon\")"
   ]
  },
  {
   "cell_type": "markdown",
   "id": "fd81cfc1",
   "metadata": {},
   "source": [
    "## Compute and print accuracy measures such as RMSE and R2 for the test set. "
   ]
  },
  {
   "cell_type": "code",
   "execution_count": 135,
   "id": "1b9a589e",
   "metadata": {},
   "outputs": [],
   "source": [
    "def findRMSE(y_true, y_pred):\n",
    "    return np.sqrt(np.mean(np.abs((np.subtract(y_true,y_pred))**2)))"
   ]
  },
  {
   "cell_type": "code",
   "execution_count": 136,
   "id": "3652449f",
   "metadata": {},
   "outputs": [
    {
     "name": "stdout",
     "output_type": "stream",
     "text": [
      "RMSE =  2.557947332019821\n"
     ]
    }
   ],
   "source": [
    "rmse = findRMSE(Y_test,Y_pred_test)\n",
    "print(\"RMSE = \", rmse)"
   ]
  },
  {
   "cell_type": "code",
   "execution_count": 137,
   "id": "a00cdf6e",
   "metadata": {},
   "outputs": [],
   "source": [
    "def findRSquare(y_true, y_pred):\n",
    "    y_mean = np.mean(y_true)\n",
    "    ssr = np.sum(np.subtract(y_pred, y_mean)**2)\n",
    "    sst = np.sum(np.subtract(y_true, y_mean)**2)\n",
    "    \n",
    "    return np.divide(ssr,sst)"
   ]
  },
  {
   "cell_type": "code",
   "execution_count": 138,
   "id": "64fa5f92",
   "metadata": {},
   "outputs": [
    {
     "name": "stdout",
     "output_type": "stream",
     "text": [
      "RSquare =  0.4762979642034058\n"
     ]
    }
   ],
   "source": [
    "rsquare = findRSquare(Y_test, Y_pred_test)\n",
    "print(\"RSquare = \", rsquare)"
   ]
  },
  {
   "cell_type": "code",
   "execution_count": 139,
   "id": "0eeb0ba4",
   "metadata": {},
   "outputs": [
    {
     "name": "stdout",
     "output_type": "stream",
     "text": [
      "(RSquare = 0.48485741647097813, RMSE = 2.557947332019821)\n"
     ]
    }
   ],
   "source": [
    "from sklearn.metrics import r2_score, mean_squared_error\n",
    "\n",
    "r2 = r2_score(Y_pred_test,Y_test)\n",
    "rmse = mean_squared_error(Y_pred_test, Y_test)**0.5\n",
    "\n",
    "print(\"(RSquare = {}, RMSE = {})\".format(r2, rmse))"
   ]
  },
  {
   "cell_type": "markdown",
   "id": "e56697f8",
   "metadata": {},
   "source": [
    "## Apply the stochastic gradient descent and mini batch gradient descent algorithms to enhance the accuracy and visualize the cost function."
   ]
  },
  {
   "cell_type": "code",
   "execution_count": 140,
   "id": "df7ce4e3",
   "metadata": {},
   "outputs": [],
   "source": [
    "I_history = []\n",
    "def MiniBatchLinReg(X_train,Y_train, batch_size):       \n",
    "    coeff = {} \n",
    "    costs = [] \n",
    "    alpha = 0.01\n",
    "    epochs = 1000\n",
    "    \n",
    "    M = X_train.shape[0] \n",
    "    \n",
    "    # initialising random values for weight and 0 for bias\n",
    "    w = np.random.randn()\n",
    "    b = 0\n",
    "    \n",
    "    n_batches = M/batch_size # number of batches\n",
    "    \n",
    "    flag = 0\n",
    "    \n",
    "    if n_batches > int(n_batches):\n",
    "        flag = 1\n",
    "    \n",
    "    n_batches = int(n_batches)\n",
    "    \n",
    "    for epoch in range(epochs):\n",
    "        I_history.append(epoch)\n",
    "        batch = 0     \n",
    "        m_b_costs = []\n",
    "        \n",
    "        while batch < n_batches:\n",
    "            \n",
    "            X = X_train[batch*batch_size: (batch+1)*batch_size]\n",
    "            Y = Y_train[batch*batch_size: (batch+1)*batch_size]\n",
    "            \n",
    "            h = w*X + b \n",
    "        \n",
    "            J = (1/(2*M))*((h - Y)**2).sum()\n",
    "\n",
    "            costs.append(J)\n",
    "\n",
    "            dw = (1/M)*(((h - Y).dot(X)).sum()) \n",
    "            db = (1/M)*((h - Y).sum())\n",
    "\n",
    "            w = w - alpha * dw\n",
    "            b = b - alpha * db\n",
    "            \n",
    "            batch += 1\n",
    "        \n",
    "        if flag == 1:\n",
    "            X = X_train[batch*batch_size:]\n",
    "            \n",
    "            h = w*X_train + b \n",
    "            J = (1/(2*M))*(((h - Y_train)**2).sum())\n",
    "            \n",
    "            costs.append(J)\n",
    "            \n",
    "            dw = (1/M)*(((h - Y_train).dot(X_train)).sum())\n",
    "            db = (1/M)*((h - Y_train).sum())\n",
    "        \n",
    "\n",
    "        w = w - alpha * dw\n",
    "        b = b - alpha * db\n",
    "        \n",
    "    coeff[\"theta\"] = w\n",
    "    coeff[\"bias\"] =  b\n",
    "    \n",
    "    return coeff,costs"
   ]
  },
  {
   "cell_type": "code",
   "execution_count": 141,
   "id": "d45ed704",
   "metadata": {},
   "outputs": [],
   "source": [
    "def predict(X_test, coeff):\n",
    "    y_pred = np.dot(X_test, coeff['theta']) + coeff['bias'] \n",
    "    return y_pred"
   ]
  },
  {
   "cell_type": "code",
   "execution_count": 142,
   "id": "fd9317e4",
   "metadata": {},
   "outputs": [],
   "source": [
    "coeff, J_history = MiniBatchLinReg(X_train, Y_train, 40)\n",
    "Y_pred_test = predict(X_test, coeff)\n"
   ]
  },
  {
   "cell_type": "code",
   "execution_count": 143,
   "id": "d2895d83",
   "metadata": {},
   "outputs": [
    {
     "data": {
      "image/png": "[encoded data removed]",
      "text/plain": [
       "<Figure size 432x288 with 1 Axes>"
      ]
     },
     "metadata": {
      "needs_background": "light"
     },
     "output_type": "display_data"
    }
   ],
   "source": [
    "#Checking for working of Stochastic Gradient Descent\n",
    "\n",
    "plt.plot(I_history[:500], J_history[:500])\n",
    "plt.show()"
   ]
  },
  {
   "cell_type": "code",
   "execution_count": 144,
   "id": "e19bbef5",
   "metadata": {},
   "outputs": [],
   "source": [
    "def SGD(x_train, y_train, alpha = 0.006, m = 10000):\n",
    "    t0 = 0\n",
    "    t1 = 0\n",
    "    for i in range(m):\n",
    "        y_i = t0 + t1 * x_train\n",
    "        t0 = t0 - (alpha * sum(y_i - y_train)) / len(x_train)\n",
    "        t1 = t1 - (alpha * sum((y_i - y_train) * x_train)) / len(x_train)\n",
    "    return t0, t1, y_i"
   ]
  },
  {
   "cell_type": "code",
   "execution_count": 145,
   "id": "b4bf1b29",
   "metadata": {},
   "outputs": [],
   "source": [
    "def predict(b0, b1, X_test):\n",
    "    y = b0 + b1*X_test\n",
    "    return y"
   ]
  },
  {
   "cell_type": "code",
   "execution_count": 146,
   "id": "bfe48e9b",
   "metadata": {},
   "outputs": [],
   "source": [
    "b0, b1, Y_pred_train_new = SGD(X_train, Y_train)\n",
    "Y_pred_test_new = predict(b0, b1, X_test)"
   ]
  },
  {
   "cell_type": "code",
   "execution_count": 147,
   "id": "8b814e79",
   "metadata": {},
   "outputs": [
    {
     "data": {
      "text/plain": [
       "Text(0, 0.5, 'Miles per Gallon')"
      ]
     },
     "execution_count": 147,
     "metadata": {},
     "output_type": "execute_result"
    },
    {
     "data": {
      "image/png": "[encoded data removed]",
      "text/plain": [
       "<Figure size 432x288 with 1 Axes>"
      ]
     },
     "metadata": {
      "needs_background": "light"
     },
     "output_type": "display_data"
    }
   ],
   "source": [
    "plt.scatter(X_train,Y_train)\n",
    "plt.plot(X_train, Y_pred_train_new)\n",
    "plt.xlabel(\"Weight\")\n",
    "plt.ylabel(\"Miles per Gallon\")"
   ]
  },
  {
   "cell_type": "code",
   "execution_count": 148,
   "id": "6055bbc5",
   "metadata": {},
   "outputs": [
    {
     "data": {
      "text/plain": [
       "Text(0, 0.5, 'Miles per Gallon')"
      ]
     },
     "execution_count": 148,
     "metadata": {},
     "output_type": "execute_result"
    },
    {
     "data": {
      "image/png": "[encoded data removed]",
      "text/plain": [
       "<Figure size 432x288 with 1 Axes>"
      ]
     },
     "metadata": {
      "needs_background": "light"
     },
     "output_type": "display_data"
    }
   ],
   "source": [
    "plt.scatter(X_test,Y_test)\n",
    "plt.plot(X_test, Y_pred_test_new)\n",
    "plt.xlabel(\"Weight\")\n",
    "plt.ylabel(\"Miles per Gallon\")"
   ]
  }
 ],
 "metadata": {
  "kernelspec": {
   "display_name": "Python 3 (ipykernel)",
   "language": "python",
   "name": "python3"
  },
  "language_info": {
   "codemirror_mode": {
    "name": "ipython",
    "version": 3
   },
   "file_extension": ".py",
   "mimetype": "text/x-python",
   "name": "python",
   "nbconvert_exporter": "python",
   "pygments_lexer": "ipython3",
   "version": "3.7.9"
  }
 },
 "nbformat": 4,
 "nbformat_minor": 5
}
